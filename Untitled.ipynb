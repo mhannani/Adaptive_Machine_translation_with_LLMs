{
 "cells": [
  {
   "cell_type": "code",
   "execution_count": 5,
   "id": "433e5a40-b876-4190-ad5d-90ef7b3f827e",
   "metadata": {},
   "outputs": [],
   "source": [
    "import torch\n",
    "import datasets\n",
    "import transformers\n",
    "import numpy"
   ]
  },
  {
   "cell_type": "code",
   "execution_count": null,
   "id": "3ab57ab7-e524-4b3d-ad71-45cae03d8f4b",
   "metadata": {},
   "outputs": [],
   "source": []
  },
  {
   "cell_type": "code",
   "execution_count": null,
   "id": "1d5e8248-d74c-4e0f-a243-46573de0b7dd",
   "metadata": {
    "tags": []
   },
   "outputs": [],
   "source": [
    "import xml.etree.ElementTree as ET\n",
    "\n",
    "# Parse the XCES file\n",
    "tree = ET.parse('data/ar-en.xml.gz.tmp')\n",
    "root = tree.getroot()"
   ]
  },
  {
   "cell_type": "code",
   "execution_count": null,
   "id": "d130572e-53e9-4d12-9859-b84629063fe4",
   "metadata": {
    "tags": []
   },
   "outputs": [],
   "source": [
    "import xml.etree.ElementTree as ET\n",
    "import gzip\n",
    "\n",
    "# Specify the path to the compressed XML file\n",
    "file_path = 'data/ar-fr.xml.gz'\n",
    "\n",
    "# Open the compressed file using gzip\n",
    "with gzip.open(file_path, 'rt', encoding='utf-8') as file:\n",
    "    # Create an ElementTree from the file\n",
    "    tree = ET.iterparse(file)\n",
    "\n",
    "    # Iterate through the XML elements\n",
    "    for _, element in tree:\n",
    "        # Process the element as needed\n",
    "        # Example: Print the tag and text of each element\n",
    "        print(f\"Tag: {element.tag}, Text: {element.text}\")\n",
    "\n",
    "        # Clear the element to free memory (important for large files)\n",
    "        element.clear()\n",
    "        \n",
    "        \n",
    "\n",
    "# After processing, the entire file will be closed automatically"
   ]
  },
  {
   "cell_type": "code",
   "execution_count": null,
   "id": "d14f22b5-d030-4ec8-9b27-43793a7cd17b",
   "metadata": {},
   "outputs": [],
   "source": []
  }
 ],
 "metadata": {
  "kernelspec": {
   "display_name": "Python 3 (ipykernel)",
   "language": "python",
   "name": "python3"
  },
  "language_info": {
   "codemirror_mode": {
    "name": "ipython",
    "version": 3
   },
   "file_extension": ".py",
   "mimetype": "text/x-python",
   "name": "python",
   "nbconvert_exporter": "python",
   "pygments_lexer": "ipython3",
   "version": "3.11.4"
  }
 },
 "nbformat": 4,
 "nbformat_minor": 5
}
